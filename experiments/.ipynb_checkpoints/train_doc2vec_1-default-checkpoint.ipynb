{
 "cells": [
  {
   "cell_type": "markdown",
   "metadata": {},
   "source": [
    "# DocVec training\n",
    "\n",
    "### トレーニングデータ\n",
    "前処理1で加工したデータ\n",
    "\n",
    "### パラメータ\n",
    "- ほぼデフォルト値を使用。\n",
    "- 詳細は以下\n",
    "    - ここでは（とりあえずトレーニングすることが目的なので）パラメータはあまり気にしなくて良い。\n",
    "    - パラメータの説明は、exp_params_setup1.ipynb でしている。\n",
    "    \n",
    "### 結果\n",
    "特筆すべきことは特にない。加工したデータを公式document通りにトレーニングして、  \n",
    "https://radimrehurek.com/gensim/models/doc2vec.html  \n",
    "トレーニングされたmodelを保存するだけ。\n",
    "\n",
    "この保存したモデル（正確には、トレーニング時に生成されたdocのベクトル）を、  \n",
    "- evaluation_wo_category_1-default.ipynb\n",
    "- evaluation_w_category_1-default.ipynb\n",
    "\n",
    "で、評価していく。"
   ]
  },
  {
   "cell_type": "code",
   "execution_count": 6,
   "metadata": {},
   "outputs": [
    {
     "name": "stdout",
     "output_type": "stream",
     "text": [
      "CPU times: user 30.2 s, sys: 647 ms, total: 30.8 s\n",
      "Wall time: 14.8 s\n"
     ]
    }
   ],
   "source": [
    "%%time\n",
    "import pickle\n",
    "from gensim.models.doc2vec import TaggedDocument\n",
    "from gensim.models.doc2vec import Doc2Vec\n",
    "\n",
    "fn_words_list = './preproc_data/words_list_mecab_pp1.pickle'\n",
    "fn_model = './model/doc2vec_pp1_setup1-default.model'\n",
    "vec_size = 50\n",
    "\n",
    "\n",
    "with open(fn_words_list, 'rb') as f:\n",
    "    tagged_words_list = pickle.load(f)\n",
    "model = Doc2Vec(documents=tagged_words_list, dm=0, vector_size=vec_size, window=15, min_count=1, worker=4)\n",
    "\n",
    "model.save(fn_model)"
   ]
  }
 ],
 "metadata": {
  "kernelspec": {
   "display_name": "Python 3",
   "language": "python",
   "name": "python3"
  },
  "language_info": {
   "codemirror_mode": {
    "name": "ipython",
    "version": 3
   },
   "file_extension": ".py",
   "mimetype": "text/x-python",
   "name": "python",
   "nbconvert_exporter": "python",
   "pygments_lexer": "ipython3",
   "version": "3.6.5"
  }
 },
 "nbformat": 4,
 "nbformat_minor": 2
}
